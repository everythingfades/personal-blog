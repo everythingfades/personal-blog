{
 "cells": [
  {
   "cell_type": "code",
   "execution_count": 1,
   "id": "3a4c13bf-c176-4435-bcf9-70007a1e3ef0",
   "metadata": {},
   "outputs": [
    {
     "name": "stdout",
     "output_type": "stream",
     "text": [
      "0 [0, 2, 0, 0]\n",
      "1 [0, 1, 0, 0]\n",
      "2 [1, 1, 0, 0]\n",
      "5 [1, 1, 0, 0]\n",
      "6 [1, 1, 1, 0]\n",
      "0 [1, 1, 1, 0]\n",
      "1 [1, 0, 1, 0]\n",
      "2 [2, 0, 1, 0]\n",
      "3 [2, 0, 0, 0]\n",
      "4 [2, 0, 0, 1]\n",
      "1 [3, 0, 0, 1]\n",
      "2 [4, 0, 0, 1]\n",
      "5 [4, 0, 0, 1]\n",
      "6 [4, 0, 1, 1]\n",
      "5 [4, 0, 1, 0]\n",
      "6 [4, 0, 2, 0]\n",
      "0 [4, 0, 2, 0]\n",
      "7 [4, 0, 2, 0]\n"
     ]
    }
   ],
   "source": [
    "R = [0,2,0,0]\n",
    "\n",
    "\n",
    "def L0():\n",
    "    print(0, R)\n",
    "    if R[1] > 0:\n",
    "        R[1] -= 1\n",
    "        L1()\n",
    "    else:\n",
    "        L7()\n",
    "\n",
    "def L1():\n",
    "    print(1, R)\n",
    "    R[0] += 1\n",
    "    L2()\n",
    "\n",
    "def L2():\n",
    "    print(2, R)\n",
    "    if R[2] > 0:\n",
    "        R[2] -= 1\n",
    "        L3()\n",
    "    else:\n",
    "        L5()\n",
    "\n",
    "def L3():\n",
    "    print(3, R)\n",
    "    R[3] += 1\n",
    "    L4()\n",
    "\n",
    "def L4():\n",
    "    print(4, R)\n",
    "    R[0] += 1\n",
    "    L1()\n",
    "\n",
    "def L5():\n",
    "    print(5, R)\n",
    "    R[2] += 1\n",
    "    L6()\n",
    "\n",
    "def L6():\n",
    "    print(6, R)\n",
    "    if R[3] > 0:\n",
    "        R[3] -= 1\n",
    "        L5()\n",
    "    else:\n",
    "        L0()\n",
    "\n",
    "def L7():\n",
    "    print(7, R)\n",
    "\n",
    "L0()"
   ]
  },
  {
   "cell_type": "code",
   "execution_count": null,
   "id": "c04ae43a-9334-4302-afef-f3faae8e30e5",
   "metadata": {},
   "outputs": [],
   "source": []
  }
 ],
 "metadata": {
  "kernelspec": {
   "display_name": "Python 3 (ipykernel)",
   "language": "python",
   "name": "python3"
  },
  "language_info": {
   "codemirror_mode": {
    "name": "ipython",
    "version": 3
   },
   "file_extension": ".py",
   "mimetype": "text/x-python",
   "name": "python",
   "nbconvert_exporter": "python",
   "pygments_lexer": "ipython3",
   "version": "3.9.19"
  }
 },
 "nbformat": 4,
 "nbformat_minor": 5
}
